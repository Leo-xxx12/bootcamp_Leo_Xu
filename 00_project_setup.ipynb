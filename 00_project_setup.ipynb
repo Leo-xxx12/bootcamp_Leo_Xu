{
 "cells": [
  {
   "cell_type": "code",
   "execution_count": 2,
   "id": "5be87457-74d5-43c3-8483-3f5aeb82b57e",
   "metadata": {},
   "outputs": [
    {
     "name": "stdout",
     "output_type": "stream",
     "text": [
      "API_KEY: dummy_key_123\n",
      "DATA_DIR: /Users/leo/bootcamp_Leo_Xu/homework/homework1/data\n"
     ]
    }
   ],
   "source": [
    "# Make src importable from ANYWHERE\n",
    "import sys\n",
    "from pathlib import Path\n",
    "\n",
    "p = Path.cwd()\n",
    "for cand in [p, *p.parents]:\n",
    "    hw1 = cand / \"homework\" / \"homework1\"\n",
    "    if (hw1 / \"src\").exists():\n",
    "        sys.path.insert(0, str(hw1))      # adds .../homework/homework1\n",
    "        break\n",
    "else:\n",
    "    raise RuntimeError(\"Could not find homework/homework1/src\")\n",
    "\n",
    "from src.config import load_env, get_key, get_data_dir\n",
    "load_env()\n",
    "print(\"API_KEY:\", get_key(\"API_KEY\"))\n",
    "print(\"DATA_DIR:\", get_data_dir())\n"
   ]
  },
  {
   "cell_type": "code",
   "execution_count": 4,
   "id": "103de840-bc29-4ff0-a858-9d5256741554",
   "metadata": {},
   "outputs": [
    {
     "name": "stdout",
     "output_type": "stream",
     "text": [
      "API_KEY: dummy_key_123\n",
      "DATA_DIR: /Users/leo/bootcamp_Leo_Xu/homework/homework1/data\n"
     ]
    }
   ],
   "source": [
    "# Make 'src/' importable when running from homework/homework1/notebooks\n",
    "import os, sys\n",
    "sys.path.append(os.path.abspath(os.path.join(os.getcwd(), '..')))\n",
    "\n",
    "from src.config import load_env, get_key, get_data_dir\n",
    "load_env()\n",
    "print(\"API_KEY:\", get_key(\"API_KEY\"))\n",
    "print(\"DATA_DIR:\", get_data_dir())\n",
    "\n",
    "\n"
   ]
  },
  {
   "cell_type": "code",
   "execution_count": null,
   "id": "da3569a2-5a80-48af-971d-8da1334d68a5",
   "metadata": {},
   "outputs": [],
   "source": []
  }
 ],
 "metadata": {
  "kernelspec": {
   "display_name": "Python (bootcamp_env)",
   "language": "python",
   "name": "bootcamp_env"
  },
  "language_info": {
   "codemirror_mode": {
    "name": "ipython",
    "version": 3
   },
   "file_extension": ".py",
   "mimetype": "text/x-python",
   "name": "python",
   "nbconvert_exporter": "python",
   "pygments_lexer": "ipython3",
   "version": "3.12.2"
  }
 },
 "nbformat": 4,
 "nbformat_minor": 5
}
