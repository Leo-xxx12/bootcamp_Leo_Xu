{
  "cells": [
    {
      "cell_type": "markdown",
      "metadata": {
        "id": "view-in-github",
        "colab_type": "text"
      },
      "source": [
        "<a href=\"https://colab.research.google.com/github/Leo-xxx12/bootcamp_Leo_Xu/blob/main/Copy_of_stage13_productization_homework_starter.ipynb\" target=\"_parent\"><img src=\"https://colab.research.google.com/assets/colab-badge.svg\" alt=\"Open In Colab\"/></a>"
      ]
    },
    {
      "cell_type": "markdown",
      "metadata": {
        "id": "OGmrIX3CFuaU"
      },
      "source": [
        "# Stage 13 Homework Starter — Productization\n",
        "\n",
        "## Objective\n",
        "Deploy your trained model as a **reusable, handoff-ready API or dashboard** and finalize your project for reproducibility and clarity."
      ],
      "id": "OGmrIX3CFuaU"
    },
    {
      "cell_type": "markdown",
      "metadata": {
        "id": "WvZ5dRA0FuaY"
      },
      "source": [
        "## Steps\n",
        "1. Create a mock, very basic analysis in a notebook.\n",
        "2. Clean your notebook by removing exploratory cells and documenting your code.\n",
        "3. Move reusable functions into `/src/`.\n",
        "4. Load your trained model from Stage 12 or earlier stages.\n",
        "5. Pickle/save the model and test reload.\n",
        "6. Implement **either**:\n",
        "   - Flask API with `/predict` endpoint and optional parameters\n",
        "   - Streamlit or Dash dashboard for user interaction\n",
        "7. Include:\n",
        "   - Error handling for invalid inputs\n",
        "   - `requirements.txt` for reproducibility\n",
        "   - Documentation in `README.md`\n",
        "8. Test your deployment locally and provide evidence.\n",
        "9. Organize project folders and finalize notebooks for handoff."
      ],
      "id": "WvZ5dRA0FuaY"
    },
    {
      "cell_type": "markdown",
      "id": "8e003adc",
      "metadata": {
        "id": "8e003adc"
      },
      "source": [
        "## 1. Create mock, very basic analysis"
      ]
    },
    {
      "cell_type": "code",
      "execution_count": 1,
      "id": "88fadda7",
      "metadata": {
        "id": "88fadda7",
        "colab": {
          "base_uri": "https://localhost:8080/"
        },
        "outputId": "dc511662-2ce7-4317-b840-ee3be5f8ded0"
      },
      "outputs": [
        {
          "output_type": "stream",
          "name": "stdout",
          "text": [
            "Basic analysis complete.\n"
          ]
        }
      ],
      "source": [
        "# TODO: Basic analysis step 1\n",
        "# TODO: Basic analysis step 2\n",
        "# TODO: ...\n",
        "print(\"Basic analysis complete.\")"
      ]
    },
    {
      "cell_type": "markdown",
      "metadata": {
        "id": "RERT6bvlFuac"
      },
      "source": [
        "## 2. Notebook Cleanup\n",
        "Remove exploratory cells and document your code."
      ],
      "id": "RERT6bvlFuac"
    },
    {
      "cell_type": "code",
      "execution_count": 2,
      "metadata": {
        "id": "_ilwnqajFuac",
        "colab": {
          "base_uri": "https://localhost:8080/"
        },
        "outputId": "97d74a78-a812-4e3d-8809-be50ce40f5b3"
      },
      "outputs": [
        {
          "output_type": "stream",
          "name": "stdout",
          "text": [
            "Notebook cleaned and ready for handoff.\n"
          ]
        }
      ],
      "source": [
        "# TODO: Remove exploratory cells\n",
        "# TODO: Document your code clearly\n",
        "# Example placeholder for cleaned analysis\n",
        "print(\"Notebook cleaned and ready for handoff.\")"
      ],
      "id": "_ilwnqajFuac"
    },
    {
      "cell_type": "markdown",
      "metadata": {
        "id": "yvG06ug0Fuac"
      },
      "source": [
        "## 3. Move reusable functions to /src/\n",
        "Create src/utils.py and store functions there."
      ],
      "id": "yvG06ug0Fuac"
    },
    {
      "cell_type": "code",
      "execution_count": 4,
      "metadata": {
        "id": "3FrZoNefFuad"
      },
      "outputs": [],
      "source": [
        "# TODO: Move actual reusable functions here\n",
        "def calculate_metrics(df):\n",
        "    return df.describe()\n",
        "# src/utils.py\n",
        "import joblib\n",
        "\n",
        "def save_model(model, path=\"models/model.pkl\"):\n",
        "    joblib.dump(model, path)\n",
        "\n",
        "def load_model(path=\"models/model.pkl\"):\n",
        "    return joblib.load(path)\n"
      ],
      "id": "3FrZoNefFuad"
    },
    {
      "cell_type": "markdown",
      "metadata": {
        "id": "ew_AZDjSFuad"
      },
      "source": [
        "## 4. Folder Structure Reminder\n",
        "\n",
        "Ensure your project uses a clean folder structure:\n",
        "```\n",
        "project/\n",
        "  data/\n",
        "  notebooks/\n",
        "  src/\n",
        "  reports/\n",
        "  model/\n",
        "  README.md\n",
        "```\n",
        "For API/Dashboard: minimal example:\n",
        "```\n",
        "project/\n",
        "    app.py\n",
        "    model.pkl\n",
        "    requirements.txt\n",
        "    README.md\n",
        "```"
      ],
      "id": "ew_AZDjSFuad"
    },
    {
      "cell_type": "markdown",
      "metadata": {
        "id": "hS4moEX6Fuae"
      },
      "source": [
        "## 5. Pickle / Save Final Model\n",
        "\n",
        "### TODO: Replace this with your trained model"
      ],
      "id": "hS4moEX6Fuae"
    },
    {
      "cell_type": "code",
      "execution_count": 5,
      "metadata": {
        "id": "FirRhsx1Fuae",
        "colab": {
          "base_uri": "https://localhost:8080/",
          "height": 210
        },
        "outputId": "ba6fca3f-5f6f-4d4a-d3e7-7f0f117b399d"
      },
      "outputs": [
        {
          "output_type": "error",
          "ename": "NameError",
          "evalue": "name 'reg' is not defined",
          "traceback": [
            "\u001b[0;31m---------------------------------------------------------------------------\u001b[0m",
            "\u001b[0;31mNameError\u001b[0m                                 Traceback (most recent call last)",
            "\u001b[0;32m/tmp/ipython-input-2968354207.py\u001b[0m in \u001b[0;36m<cell line: 0>\u001b[0;34m()\u001b[0m\n\u001b[1;32m      7\u001b[0m \u001b[0;31m# ✅ Replace 'reg' with your trained model variable\u001b[0m\u001b[0;34m\u001b[0m\u001b[0;34m\u001b[0m\u001b[0m\n\u001b[1;32m      8\u001b[0m \u001b[0;32mwith\u001b[0m \u001b[0mopen\u001b[0m\u001b[0;34m(\u001b[0m\u001b[0;34m'models/final_model.pkl'\u001b[0m\u001b[0;34m,\u001b[0m \u001b[0;34m'wb'\u001b[0m\u001b[0;34m)\u001b[0m \u001b[0;32mas\u001b[0m \u001b[0mf\u001b[0m\u001b[0;34m:\u001b[0m\u001b[0;34m\u001b[0m\u001b[0;34m\u001b[0m\u001b[0m\n\u001b[0;32m----> 9\u001b[0;31m     \u001b[0mpickle\u001b[0m\u001b[0;34m.\u001b[0m\u001b[0mdump\u001b[0m\u001b[0;34m(\u001b[0m\u001b[0mreg\u001b[0m\u001b[0;34m,\u001b[0m \u001b[0mf\u001b[0m\u001b[0;34m)\u001b[0m\u001b[0;34m\u001b[0m\u001b[0;34m\u001b[0m\u001b[0m\n\u001b[0m\u001b[1;32m     10\u001b[0m \u001b[0;34m\u001b[0m\u001b[0m\n\u001b[1;32m     11\u001b[0m \u001b[0;31m# Test: reload the model\u001b[0m\u001b[0;34m\u001b[0m\u001b[0;34m\u001b[0m\u001b[0m\n",
            "\u001b[0;31mNameError\u001b[0m: name 'reg' is not defined"
          ]
        }
      ],
      "source": [
        "import pickle\n",
        "import os\n",
        "\n",
        "# Ensure the model directory exists\n",
        "os.makedirs(\"models\", exist_ok=True)\n",
        "\n",
        "# ✅ Replace 'reg' with your trained model variable\n",
        "with open('models/final_model.pkl', 'wb') as f:\n",
        "    pickle.dump(reg, f)\n",
        "\n",
        "# Test: reload the model\n",
        "with open('models/final_model.pkl', 'rb') as f:\n",
        "    loaded_model = pickle.load(f)\n",
        "\n",
        "# Example prediction (replace features with real ones)\n",
        "sample_features = [[0.1, 0.2]]   # adjust to match your feature shape\n",
        "print(\"Sample Prediction:\", loaded_model.predict(sample_features))\n"
      ],
      "id": "FirRhsx1Fuae"
    },
    {
      "cell_type": "markdown",
      "metadata": {
        "id": "-drurRuAFuaf"
      },
      "source": [
        "## 6. Flask API Starter\n",
        "\n",
        "### TODO: Implement Flask endpoints for /predict and /plot"
      ],
      "id": "-drurRuAFuaf"
    },
    {
      "cell_type": "code",
      "execution_count": 6,
      "metadata": {
        "id": "-_vnqp0uFuaf"
      },
      "outputs": [],
      "source": [
        "from flask import Flask, request, jsonify\n",
        "import threading\n",
        "import matplotlib.pyplot as plt\n",
        "import io\n",
        "import base64\n",
        "\n",
        "app = Flask(__name__)\n",
        "\n",
        "@app.route('/predict', methods=['POST'])\n",
        "def predict():\n",
        "    # TODO: Replace placeholder logic with actual model prediction\n",
        "    data = request.get_json()\n",
        "    features = data.get('features', None)\n",
        "    if features is None:\n",
        "        return jsonify({'error': 'No features provided'}), 400\n",
        "    pred = sum(features)  # placeholder\n",
        "    return jsonify({'prediction': pred})\n",
        "\n",
        "@app.route('/predict/<float:input1>', methods=['GET'])\n",
        "def predict_one(input1):\n",
        "    pred = input1 * 2  # placeholder\n",
        "    return jsonify({'prediction': pred})\n",
        "\n",
        "@app.route('/predict/<float:input1>/<float:input2>', methods=['GET'])\n",
        "def predict_two(input1, input2):\n",
        "    pred = input1 + input2  # placeholder\n",
        "    return jsonify({'prediction': pred})\n",
        "\n",
        "@app.route('/plot')\n",
        "def plot():\n",
        "    # TODO: Replace with meaningful chart or image\n",
        "    fig, ax = plt.subplots()\n",
        "    ax.plot([0, 1, 2], [0, 1, 4])\n",
        "    buf = io.BytesIO()\n",
        "    fig.savefig(buf, format='png')\n",
        "    buf.seek(0)\n",
        "    img_bytes = base64.b64encode(buf.read()).decode('utf-8')\n",
        "    return f'<img src=\"data:image/png;base64,{img_bytes}\"/>'\n",
        "\n",
        "def run_flask():\n",
        "    app.run(port=5000)\n",
        "\n",
        "# Launch Flask in a separate thread\n",
        "threading.Thread(target=run_flask).start()"
      ],
      "id": "-_vnqp0uFuaf"
    },
    {
      "cell_type": "markdown",
      "metadata": {
        "id": "qO13ved2Fuaf"
      },
      "source": [
        "## 7. Testing the Flask API from Notebook\n",
        "\n",
        "### TODO: Modify examples with your actual features"
      ],
      "id": "qO13ved2Fuaf"
    },
    {
      "cell_type": "code",
      "execution_count": null,
      "metadata": {
        "id": "u91J-a01Fuag"
      },
      "outputs": [],
      "source": [
        "import requests\n",
        "from IPython.display import display, HTML\n",
        "\n",
        "# POST /predict\n",
        "response = requests.post(\n",
        "    'http://127.0.0.1:5000/predict',\n",
        "    json={'features':[0.1, 0.2, 0.3]}\n",
        ")\n",
        "print(response.json())\n",
        "\n",
        "# GET /predict/<input1>\n",
        "response2 = requests.get('http://127.0.0.1:5000/predict/2.0')\n",
        "print(response2.json())\n",
        "\n",
        "# GET /predict/<input1>/<input2>\n",
        "response3 = requests.get('http://127.0.0.1:5000/predict/1.0/3.0')\n",
        "print(response3.json())\n",
        "\n",
        "# GET /plot\n",
        "response_plot = requests.get('http://127.0.0.1:5000/plot')\n",
        "display(HTML(response_plot.text))"
      ],
      "id": "u91J-a01Fuag"
    },
    {
      "cell_type": "markdown",
      "metadata": {
        "id": "hH61yVjaFuag"
      },
      "source": [
        "## 8. Optional Streamlit / Dash Dashboard\n",
        "\n",
        "### TODO: Add dashboard in a separate file (`app_streamlit.py` or `app_dash.py`)"
      ],
      "id": "hH61yVjaFuag"
    },
    {
      "cell_type": "markdown",
      "metadata": {
        "id": "CVzCQvPkFuag"
      },
      "source": [
        "## 9. Handoff Best Practices\n",
        "\n",
        "- Ensure README.md is complete and clear\n",
        "- Provide `requirements.txt` for reproducibility\n",
        "- Ensure pickled model and scripts are in correct folders\n",
        "- Verify another user can run the project end-to-end on a fresh environment"
      ],
      "id": "CVzCQvPkFuag"
    }
  ],
  "metadata": {
    "kernelspec": {
      "display_name": "Python 3",
      "language": "python",
      "name": "python3"
    },
    "language_info": {
      "name": "python",
      "version": "3.11"
    },
    "colab": {
      "provenance": [],
      "include_colab_link": true
    }
  },
  "nbformat": 4,
  "nbformat_minor": 5
}