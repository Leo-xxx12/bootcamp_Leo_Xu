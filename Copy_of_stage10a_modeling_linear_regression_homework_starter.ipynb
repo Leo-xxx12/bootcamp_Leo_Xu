{
  "cells": [
    {
      "cell_type": "markdown",
      "metadata": {
        "id": "view-in-github",
        "colab_type": "text"
      },
      "source": [
        "<a href=\"https://colab.research.google.com/github/Leo-xxx12/bootcamp_Leo_Xu/blob/main/Copy_of_stage10a_modeling_linear_regression_homework_starter.ipynb\" target=\"_parent\"><img src=\"https://colab.research.google.com/assets/colab-badge.svg\" alt=\"Open In Colab\"/></a>"
      ]
    },
    {
      "cell_type": "markdown",
      "metadata": {
        "id": "lzNNWHfCBpBY"
      },
      "source": [
        "# Homework Starter — Stage 10a: Linear Regression\n",
        "\n",
        "Use this as a scaffold if your project data isn’t ready. Replace the synthetic data section with your dataset when possible."
      ],
      "id": "lzNNWHfCBpBY"
    },
    {
      "cell_type": "code",
      "execution_count": 1,
      "metadata": {
        "id": "Y1DJccaaBpBd"
      },
      "outputs": [],
      "source": [
        "# Imports\n",
        "import numpy as np\n",
        "import pandas as pd\n",
        "import matplotlib.pyplot as plt\n",
        "import seaborn as sns\n",
        "from sklearn.linear_model import LinearRegression\n",
        "from sklearn.metrics import r2_score, mean_squared_error\n",
        "from sklearn.model_selection import train_test_split\n",
        "import scipy.stats as st\n",
        "\n",
        "sns.set()\n",
        "np.random.seed(7)"
      ],
      "id": "Y1DJccaaBpBd"
    },
    {
      "cell_type": "markdown",
      "metadata": {
        "id": "qrD9a0g9BpBe"
      },
      "source": [
        "## 1) Synthetic data (replace with your project data when ready)\n",
        "- Finance-flavored factors and asset excess return\n",
        "- Includes a quadratic effect to motivate specification checks"
      ],
      "id": "qrD9a0g9BpBe"
    },
    {
      "cell_type": "code",
      "execution_count": 2,
      "metadata": {
        "id": "kHChBDToBpBf",
        "colab": {
          "base_uri": "https://localhost:8080/",
          "height": 206
        },
        "outputId": "13fbddbb-ad0c-4331-9edf-dff476a6342a"
      },
      "outputs": [
        {
          "output_type": "execute_result",
          "data": {
            "text/plain": [
              "        date  mkt_excess      size     value  momentum  asset_excess\n",
              "0 2024-02-01    0.018596 -0.013467 -0.000540  0.000141      0.014832\n",
              "1 2024-02-02   -0.005125  0.008120  0.007089 -0.006840     -0.008599\n",
              "2 2024-02-05    0.000361 -0.011532 -0.012885 -0.011216     -0.009577\n",
              "3 2024-02-06    0.004483 -0.010749  0.003905 -0.010685      0.000033\n",
              "4 2024-02-07   -0.008678 -0.002893  0.001250  0.002779     -0.005750"
            ],
            "text/html": [
              "\n",
              "  <div id=\"df-f5be9c0e-702f-47f4-a6bd-cd54d9e43a61\" class=\"colab-df-container\">\n",
              "    <div>\n",
              "<style scoped>\n",
              "    .dataframe tbody tr th:only-of-type {\n",
              "        vertical-align: middle;\n",
              "    }\n",
              "\n",
              "    .dataframe tbody tr th {\n",
              "        vertical-align: top;\n",
              "    }\n",
              "\n",
              "    .dataframe thead th {\n",
              "        text-align: right;\n",
              "    }\n",
              "</style>\n",
              "<table border=\"1\" class=\"dataframe\">\n",
              "  <thead>\n",
              "    <tr style=\"text-align: right;\">\n",
              "      <th></th>\n",
              "      <th>date</th>\n",
              "      <th>mkt_excess</th>\n",
              "      <th>size</th>\n",
              "      <th>value</th>\n",
              "      <th>momentum</th>\n",
              "      <th>asset_excess</th>\n",
              "    </tr>\n",
              "  </thead>\n",
              "  <tbody>\n",
              "    <tr>\n",
              "      <th>0</th>\n",
              "      <td>2024-02-01</td>\n",
              "      <td>0.018596</td>\n",
              "      <td>-0.013467</td>\n",
              "      <td>-0.000540</td>\n",
              "      <td>0.000141</td>\n",
              "      <td>0.014832</td>\n",
              "    </tr>\n",
              "    <tr>\n",
              "      <th>1</th>\n",
              "      <td>2024-02-02</td>\n",
              "      <td>-0.005125</td>\n",
              "      <td>0.008120</td>\n",
              "      <td>0.007089</td>\n",
              "      <td>-0.006840</td>\n",
              "      <td>-0.008599</td>\n",
              "    </tr>\n",
              "    <tr>\n",
              "      <th>2</th>\n",
              "      <td>2024-02-05</td>\n",
              "      <td>0.000361</td>\n",
              "      <td>-0.011532</td>\n",
              "      <td>-0.012885</td>\n",
              "      <td>-0.011216</td>\n",
              "      <td>-0.009577</td>\n",
              "    </tr>\n",
              "    <tr>\n",
              "      <th>3</th>\n",
              "      <td>2024-02-06</td>\n",
              "      <td>0.004483</td>\n",
              "      <td>-0.010749</td>\n",
              "      <td>0.003905</td>\n",
              "      <td>-0.010685</td>\n",
              "      <td>0.000033</td>\n",
              "    </tr>\n",
              "    <tr>\n",
              "      <th>4</th>\n",
              "      <td>2024-02-07</td>\n",
              "      <td>-0.008678</td>\n",
              "      <td>-0.002893</td>\n",
              "      <td>0.001250</td>\n",
              "      <td>0.002779</td>\n",
              "      <td>-0.005750</td>\n",
              "    </tr>\n",
              "  </tbody>\n",
              "</table>\n",
              "</div>\n",
              "    <div class=\"colab-df-buttons\">\n",
              "\n",
              "  <div class=\"colab-df-container\">\n",
              "    <button class=\"colab-df-convert\" onclick=\"convertToInteractive('df-f5be9c0e-702f-47f4-a6bd-cd54d9e43a61')\"\n",
              "            title=\"Convert this dataframe to an interactive table.\"\n",
              "            style=\"display:none;\">\n",
              "\n",
              "  <svg xmlns=\"http://www.w3.org/2000/svg\" height=\"24px\" viewBox=\"0 -960 960 960\">\n",
              "    <path d=\"M120-120v-720h720v720H120Zm60-500h600v-160H180v160Zm220 220h160v-160H400v160Zm0 220h160v-160H400v160ZM180-400h160v-160H180v160Zm440 0h160v-160H620v160ZM180-180h160v-160H180v160Zm440 0h160v-160H620v160Z\"/>\n",
              "  </svg>\n",
              "    </button>\n",
              "\n",
              "  <style>\n",
              "    .colab-df-container {\n",
              "      display:flex;\n",
              "      gap: 12px;\n",
              "    }\n",
              "\n",
              "    .colab-df-convert {\n",
              "      background-color: #E8F0FE;\n",
              "      border: none;\n",
              "      border-radius: 50%;\n",
              "      cursor: pointer;\n",
              "      display: none;\n",
              "      fill: #1967D2;\n",
              "      height: 32px;\n",
              "      padding: 0 0 0 0;\n",
              "      width: 32px;\n",
              "    }\n",
              "\n",
              "    .colab-df-convert:hover {\n",
              "      background-color: #E2EBFA;\n",
              "      box-shadow: 0px 1px 2px rgba(60, 64, 67, 0.3), 0px 1px 3px 1px rgba(60, 64, 67, 0.15);\n",
              "      fill: #174EA6;\n",
              "    }\n",
              "\n",
              "    .colab-df-buttons div {\n",
              "      margin-bottom: 4px;\n",
              "    }\n",
              "\n",
              "    [theme=dark] .colab-df-convert {\n",
              "      background-color: #3B4455;\n",
              "      fill: #D2E3FC;\n",
              "    }\n",
              "\n",
              "    [theme=dark] .colab-df-convert:hover {\n",
              "      background-color: #434B5C;\n",
              "      box-shadow: 0px 1px 3px 1px rgba(0, 0, 0, 0.15);\n",
              "      filter: drop-shadow(0px 1px 2px rgba(0, 0, 0, 0.3));\n",
              "      fill: #FFFFFF;\n",
              "    }\n",
              "  </style>\n",
              "\n",
              "    <script>\n",
              "      const buttonEl =\n",
              "        document.querySelector('#df-f5be9c0e-702f-47f4-a6bd-cd54d9e43a61 button.colab-df-convert');\n",
              "      buttonEl.style.display =\n",
              "        google.colab.kernel.accessAllowed ? 'block' : 'none';\n",
              "\n",
              "      async function convertToInteractive(key) {\n",
              "        const element = document.querySelector('#df-f5be9c0e-702f-47f4-a6bd-cd54d9e43a61');\n",
              "        const dataTable =\n",
              "          await google.colab.kernel.invokeFunction('convertToInteractive',\n",
              "                                                    [key], {});\n",
              "        if (!dataTable) return;\n",
              "\n",
              "        const docLinkHtml = 'Like what you see? Visit the ' +\n",
              "          '<a target=\"_blank\" href=https://colab.research.google.com/notebooks/data_table.ipynb>data table notebook</a>'\n",
              "          + ' to learn more about interactive tables.';\n",
              "        element.innerHTML = '';\n",
              "        dataTable['output_type'] = 'display_data';\n",
              "        await google.colab.output.renderOutput(dataTable, element);\n",
              "        const docLink = document.createElement('div');\n",
              "        docLink.innerHTML = docLinkHtml;\n",
              "        element.appendChild(docLink);\n",
              "      }\n",
              "    </script>\n",
              "  </div>\n",
              "\n",
              "\n",
              "    <div id=\"df-85377e53-8d17-4314-98d7-88e0d4371261\">\n",
              "      <button class=\"colab-df-quickchart\" onclick=\"quickchart('df-85377e53-8d17-4314-98d7-88e0d4371261')\"\n",
              "                title=\"Suggest charts\"\n",
              "                style=\"display:none;\">\n",
              "\n",
              "<svg xmlns=\"http://www.w3.org/2000/svg\" height=\"24px\"viewBox=\"0 0 24 24\"\n",
              "     width=\"24px\">\n",
              "    <g>\n",
              "        <path d=\"M19 3H5c-1.1 0-2 .9-2 2v14c0 1.1.9 2 2 2h14c1.1 0 2-.9 2-2V5c0-1.1-.9-2-2-2zM9 17H7v-7h2v7zm4 0h-2V7h2v10zm4 0h-2v-4h2v4z\"/>\n",
              "    </g>\n",
              "</svg>\n",
              "      </button>\n",
              "\n",
              "<style>\n",
              "  .colab-df-quickchart {\n",
              "      --bg-color: #E8F0FE;\n",
              "      --fill-color: #1967D2;\n",
              "      --hover-bg-color: #E2EBFA;\n",
              "      --hover-fill-color: #174EA6;\n",
              "      --disabled-fill-color: #AAA;\n",
              "      --disabled-bg-color: #DDD;\n",
              "  }\n",
              "\n",
              "  [theme=dark] .colab-df-quickchart {\n",
              "      --bg-color: #3B4455;\n",
              "      --fill-color: #D2E3FC;\n",
              "      --hover-bg-color: #434B5C;\n",
              "      --hover-fill-color: #FFFFFF;\n",
              "      --disabled-bg-color: #3B4455;\n",
              "      --disabled-fill-color: #666;\n",
              "  }\n",
              "\n",
              "  .colab-df-quickchart {\n",
              "    background-color: var(--bg-color);\n",
              "    border: none;\n",
              "    border-radius: 50%;\n",
              "    cursor: pointer;\n",
              "    display: none;\n",
              "    fill: var(--fill-color);\n",
              "    height: 32px;\n",
              "    padding: 0;\n",
              "    width: 32px;\n",
              "  }\n",
              "\n",
              "  .colab-df-quickchart:hover {\n",
              "    background-color: var(--hover-bg-color);\n",
              "    box-shadow: 0 1px 2px rgba(60, 64, 67, 0.3), 0 1px 3px 1px rgba(60, 64, 67, 0.15);\n",
              "    fill: var(--button-hover-fill-color);\n",
              "  }\n",
              "\n",
              "  .colab-df-quickchart-complete:disabled,\n",
              "  .colab-df-quickchart-complete:disabled:hover {\n",
              "    background-color: var(--disabled-bg-color);\n",
              "    fill: var(--disabled-fill-color);\n",
              "    box-shadow: none;\n",
              "  }\n",
              "\n",
              "  .colab-df-spinner {\n",
              "    border: 2px solid var(--fill-color);\n",
              "    border-color: transparent;\n",
              "    border-bottom-color: var(--fill-color);\n",
              "    animation:\n",
              "      spin 1s steps(1) infinite;\n",
              "  }\n",
              "\n",
              "  @keyframes spin {\n",
              "    0% {\n",
              "      border-color: transparent;\n",
              "      border-bottom-color: var(--fill-color);\n",
              "      border-left-color: var(--fill-color);\n",
              "    }\n",
              "    20% {\n",
              "      border-color: transparent;\n",
              "      border-left-color: var(--fill-color);\n",
              "      border-top-color: var(--fill-color);\n",
              "    }\n",
              "    30% {\n",
              "      border-color: transparent;\n",
              "      border-left-color: var(--fill-color);\n",
              "      border-top-color: var(--fill-color);\n",
              "      border-right-color: var(--fill-color);\n",
              "    }\n",
              "    40% {\n",
              "      border-color: transparent;\n",
              "      border-right-color: var(--fill-color);\n",
              "      border-top-color: var(--fill-color);\n",
              "    }\n",
              "    60% {\n",
              "      border-color: transparent;\n",
              "      border-right-color: var(--fill-color);\n",
              "    }\n",
              "    80% {\n",
              "      border-color: transparent;\n",
              "      border-right-color: var(--fill-color);\n",
              "      border-bottom-color: var(--fill-color);\n",
              "    }\n",
              "    90% {\n",
              "      border-color: transparent;\n",
              "      border-bottom-color: var(--fill-color);\n",
              "    }\n",
              "  }\n",
              "</style>\n",
              "\n",
              "      <script>\n",
              "        async function quickchart(key) {\n",
              "          const quickchartButtonEl =\n",
              "            document.querySelector('#' + key + ' button');\n",
              "          quickchartButtonEl.disabled = true;  // To prevent multiple clicks.\n",
              "          quickchartButtonEl.classList.add('colab-df-spinner');\n",
              "          try {\n",
              "            const charts = await google.colab.kernel.invokeFunction(\n",
              "                'suggestCharts', [key], {});\n",
              "          } catch (error) {\n",
              "            console.error('Error during call to suggestCharts:', error);\n",
              "          }\n",
              "          quickchartButtonEl.classList.remove('colab-df-spinner');\n",
              "          quickchartButtonEl.classList.add('colab-df-quickchart-complete');\n",
              "        }\n",
              "        (() => {\n",
              "          let quickchartButtonEl =\n",
              "            document.querySelector('#df-85377e53-8d17-4314-98d7-88e0d4371261 button');\n",
              "          quickchartButtonEl.style.display =\n",
              "            google.colab.kernel.accessAllowed ? 'block' : 'none';\n",
              "        })();\n",
              "      </script>\n",
              "    </div>\n",
              "\n",
              "    </div>\n",
              "  </div>\n"
            ],
            "application/vnd.google.colaboratory.intrinsic+json": {
              "type": "dataframe",
              "variable_name": "df",
              "summary": "{\n  \"name\": \"df\",\n  \"rows\": 200,\n  \"fields\": [\n    {\n      \"column\": \"date\",\n      \"properties\": {\n        \"dtype\": \"date\",\n        \"min\": \"2024-02-01 00:00:00\",\n        \"max\": \"2024-11-06 00:00:00\",\n        \"num_unique_values\": 200,\n        \"samples\": [\n          \"2024-06-13 00:00:00\",\n          \"2024-02-22 00:00:00\",\n          \"2024-03-14 00:00:00\"\n        ],\n        \"semantic_type\": \"\",\n        \"description\": \"\"\n      }\n    },\n    {\n      \"column\": \"mkt_excess\",\n      \"properties\": {\n        \"dtype\": \"number\",\n        \"std\": 0.010921973619188903,\n        \"min\": -0.025171466121688947,\n        \"max\": 0.024859416852888873,\n        \"num_unique_values\": 200,\n        \"samples\": [\n          -0.0006145419505508128,\n          -0.015985655537398696,\n          -0.008168088777250245\n        ],\n        \"semantic_type\": \"\",\n        \"description\": \"\"\n      }\n    },\n    {\n      \"column\": \"size\",\n      \"properties\": {\n        \"dtype\": \"number\",\n        \"std\": 0.007882288764482987,\n        \"min\": -0.024660038125741288,\n        \"max\": 0.022888537525782068,\n        \"num_unique_values\": 200,\n        \"samples\": [\n          0.00821097064650213,\n          -0.0045861940123961544,\n          -0.0010152731920855325\n        ],\n        \"semantic_type\": \"\",\n        \"description\": \"\"\n      }\n    },\n    {\n      \"column\": \"value\",\n      \"properties\": {\n        \"dtype\": \"number\",\n        \"std\": 0.008671702637614563,\n        \"min\": -0.0254144750972525,\n        \"max\": 0.022597302447933832,\n        \"num_unique_values\": 200,\n        \"samples\": [\n          0.006514859116795189,\n          0.007640249733245533,\n          -0.0064542428673391794\n        ],\n        \"semantic_type\": \"\",\n        \"description\": \"\"\n      }\n    },\n    {\n      \"column\": \"momentum\",\n      \"properties\": {\n        \"dtype\": \"number\",\n        \"std\": 0.005752111839994947,\n        \"min\": -0.01800189685726125,\n        \"max\": 0.01298563238006856,\n        \"num_unique_values\": 200,\n        \"samples\": [\n          -0.005554467247603764,\n          0.0037360949415990194,\n          -0.0014259256410850045\n        ],\n        \"semantic_type\": \"\",\n        \"description\": \"\"\n      }\n    },\n    {\n      \"column\": \"asset_excess\",\n      \"properties\": {\n        \"dtype\": \"number\",\n        \"std\": 0.011470036816200636,\n        \"min\": -0.03799774701770079,\n        \"max\": 0.045182578946664054,\n        \"num_unique_values\": 200,\n        \"samples\": [\n          -0.0032334972530690762,\n          -0.023870521461281987,\n          -0.012558701577540186\n        ],\n        \"semantic_type\": \"\",\n        \"description\": \"\"\n      }\n    }\n  ]\n}"
            }
          },
          "metadata": {},
          "execution_count": 2
        }
      ],
      "source": [
        "n = 200\n",
        "dates = pd.bdate_range(start=\"2024-02-01\", periods=n)\n",
        "mkt_excess = np.random.normal(0, 0.011, size=n)\n",
        "size = np.random.normal(0, 0.008, size=n)\n",
        "value = np.random.normal(0, 0.009, size=n)\n",
        "momentum = np.random.normal(0, 0.006, size=n)\n",
        "\n",
        "beta0, beta_mkt, beta_size, beta_value, beta_mom, beta_mom2 = 0.0001, 0.9, 0.25, -0.15, 0.35, 3.5\n",
        "noise_scale = 0.0035 + 0.5*np.abs(mkt_excess)\n",
        "eps = np.random.normal(0, noise_scale)\n",
        "asset_excess = (\n",
        "    beta0 + beta_mkt*mkt_excess + beta_size*size + beta_value*value + beta_mom*momentum\n",
        "    + beta_mom2*(momentum**2) + eps\n",
        ")\n",
        "df = pd.DataFrame({\n",
        "    'date': dates,\n",
        "    'mkt_excess': mkt_excess,\n",
        "    'size': size,\n",
        "    'value': value,\n",
        "    'momentum': momentum,\n",
        "    'asset_excess': asset_excess\n",
        "})\n",
        "df.head()"
      ],
      "id": "kHChBDToBpBf"
    },
    {
      "cell_type": "markdown",
      "metadata": {
        "id": "tTqWsNhQBpBg"
      },
      "source": [
        "## 2) Baseline model fit\n",
        "Follow the steps; replace `df` with your project DataFrame when ready."
      ],
      "id": "tTqWsNhQBpBg"
    },
    {
      "cell_type": "code",
      "execution_count": 4,
      "metadata": {
        "id": "SwqGhhOABpBg",
        "colab": {
          "base_uri": "https://localhost:8080/"
        },
        "outputId": "3e006f82-eee6-47a7-bd20-7bb31b553dcd"
      },
      "outputs": [
        {
          "output_type": "stream",
          "name": "stdout",
          "text": [
            "Baseline   R^2=0.3677   RMSE=0.008470\n"
          ]
        }
      ],
      "source": [
        "from sklearn.linear_model import LinearRegression\n",
        "from sklearn.model_selection import train_test_split\n",
        "from sklearn.metrics import r2_score, mean_squared_error\n",
        "import numpy as np\n",
        "\n",
        "X = df[['mkt_excess', 'size', 'value', 'momentum']]\n",
        "y = df['asset_excess']\n",
        "\n",
        "X_train, X_test, y_train, y_test = train_test_split(\n",
        "    X, y, test_size=0.2, shuffle=False\n",
        ")\n",
        "\n",
        "lr = LinearRegression().fit(X_train, y_train)\n",
        "\n",
        "y_pred = lr.predict(X_test).ravel()\n",
        "r2 = r2_score(y_test, y_pred)\n",
        "\n",
        "# RMSE without using the 'squared' kwarg\n",
        "rmse = np.sqrt(mean_squared_error(y_test, y_pred))\n",
        "\n",
        "print(f'Baseline   R^2={r2:.4f}   RMSE={rmse:.6f}')\n"
      ],
      "id": "SwqGhhOABpBg"
    },
    {
      "cell_type": "code",
      "execution_count": 5,
      "metadata": {
        "id": "7zynUNNEBpBh",
        "colab": {
          "base_uri": "https://localhost:8080/",
          "height": 1000
        },
        "outputId": "f090e9b1-f5aa-48b8-9066-33ec72b7a67a"
      },
      "outputs": [
        {
          "output_type": "display_data",
          "data": {
            "text/plain": [
              "<Figure size 640x480 with 1 Axes>"
            ],
            "image/png": "[encoded data removed]"
          },
          "metadata": {}
        },
        {
          "output_type": "display_data",
          "data": {
            "text/plain": [
              "<Figure size 640x480 with 1 Axes>"
            ],
            "image/png": "[encoded data removed]"
          },
          "metadata": {}
        },
        {
          "output_type": "display_data",
          "data": {
            "text/plain": [
              "<Figure size 640x480 with 1 Axes>"
            ],
            "image/png": "[encoded data removed]"
          },
          "metadata": {}
        }
      ],
      "source": [
        "resid = y_test - y_pred\n",
        "fitted = y_pred\n",
        "plt.figure(); plt.scatter(fitted, resid); plt.axhline(0, ls='--'); plt.title('Residuals vs Fitted'); plt.show()\n",
        "plt.figure(); plt.hist(resid, bins=20); plt.title('Residual Histogram'); plt.show()\n",
        "plt.figure(); st.probplot(resid, dist='norm', plot=plt); plt.title('QQ Plot'); plt.show()"
      ],
      "id": "7zynUNNEBpBh"
    },
    {
      "cell_type": "markdown",
      "metadata": {
        "id": "k512FDQiBpBh"
      },
      "source": [
        "## 3) Optional: Add a transformed feature\n",
        "Add a polynomial or interaction if diagnostics suggest mis-specification."
      ],
      "id": "k512FDQiBpBh"
    },
    {
      "cell_type": "code",
      "execution_count": 8,
      "metadata": {
        "id": "ogR1md-pBpBi",
        "colab": {
          "base_uri": "https://localhost:8080/"
        },
        "outputId": "ae05eb01-c2f7-4a2a-9ba3-74afe4f4d15c"
      },
      "outputs": [
        {
          "output_type": "stream",
          "name": "stdout",
          "text": [
            "With x^2   R^2=0.3681   RMSE=0.008467\n"
          ]
        }
      ],
      "source": [
        "from sklearn.linear_model import LinearRegression\n",
        "from sklearn.metrics import r2_score, mean_squared_error\n",
        "import numpy as np\n",
        "\n",
        "# Add transformed feature\n",
        "df['momentum_sq'] = df['momentum'] ** 2\n",
        "\n",
        "# Features including the transformed one\n",
        "X2 = df[['mkt_excess', 'size', 'value', 'momentum', 'momentum_sq']]\n",
        "\n",
        "# Keep the same train/test split size as before\n",
        "X2_train, X2_test = X2.iloc[:len(X_train)], X2.iloc[len(X_train):]\n",
        "\n",
        "# Train model\n",
        "lr2 = LinearRegression().fit(X2_train, y_train)\n",
        "y_pred2 = lr2.predict(X2_test)\n",
        "\n",
        "# Metrics\n",
        "r2_2 = r2_score(y_test, y_pred2)\n",
        "rmse_2 = np.sqrt(mean_squared_error(y_test, y_pred2))\n",
        "\n",
        "print(f'With x^2   R^2={r2_2:.4f}   RMSE={rmse_2:.6f}')\n"
      ],
      "id": "ogR1md-pBpBi"
    },
    {
      "cell_type": "markdown",
      "metadata": {
        "id": "TuExRNpuBpBi"
      },
      "source": [
        "## 4) Interpretation (write your conclusions below)\n",
        "- Linearity:\n",
        "- Homoscedasticity:\n",
        "- Normality:\n",
        "- Independence:\n",
        "- Which model do you trust and why?:\n",
        "- Next step you’d try:"
      ],
      "id": "TuExRNpuBpBi"
    },
    {
      "cell_type": "markdown",
      "source": [
        "4) Interpretation\n",
        "Linearity:\n",
        "The baseline model assumes a linear relationship between predictors (mkt_excess, size, value, momentum) and the response (asset_excess). The improvement after adding momentum_sq suggests some nonlinearity in the data, meaning the baseline linear model may not fully capture the relationship.\n",
        "Homoscedasticity:\n",
        "Residual plots would need to be checked. If variance of residuals increases with fitted values, the assumption is violated. In financial return data, heteroscedasticity is common, so we should be cautious.\n",
        "Normality:\n",
        "Residuals are unlikely to be perfectly normal (again, common in financial data). This mainly affects inference (p-values, confidence intervals), but not prediction accuracy.\n",
        "Independence:\n",
        "Because you set shuffle=False in the train/test split, your data is likely time-series ordered. That means residuals may be autocorrelated, violating independence. A time-series approach (e.g., rolling regression, ARIMA, or state-space models) might be more appropriate.\n",
        "Which model do you trust and why?\n",
        "The model with the transformed feature (momentum_sq) may better capture nonlinear effects, as shown by its improved R² and reduced RMSE. However, caution is needed: adding terms without theory can lead to overfitting. If interpretability is key, the baseline model is simpler and easier to justify.\n",
        "Next step you’d try:\n",
        "Check residual plots to confirm assumptions (linearity, homoscedasticity, normality).\n",
        "Explore interaction terms or polynomial features more systematically (e.g., PolynomialFeatures in sklearn).\n",
        "Consider time-series specific methods (rolling regression, AR models) to address dependence over time.\n",
        "Possibly try regularization models (Lasso, Ridge) to control complexity when adding new features.\n"
      ],
      "metadata": {
        "id": "_cp7IurFCrcc"
      },
      "id": "_cp7IurFCrcc"
    }
  ],
  "metadata": {
    "kernelspec": {
      "display_name": "Python 3",
      "language": "python",
      "name": "python3"
    },
    "language_info": {
      "name": "python",
      "version": "3.10"
    },
    "colab": {
      "provenance": [],
      "include_colab_link": true
    }
  },
  "nbformat": 4,
  "nbformat_minor": 5
}