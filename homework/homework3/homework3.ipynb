{
  "nbformat": 4,
  "nbformat_minor": 0,
  "metadata": {
    "colab": {
      "provenance": [],
      "authorship_tag": "ABX9TyO6CGU+vPjCrxErJ4j2BUqT",
      "include_colab_link": true
    },
    "kernelspec": {
      "name": "python3",
      "display_name": "Python 3"
    },
    "language_info": {
      "name": "python"
    }
  },
  "cells": [
    {
      "cell_type": "markdown",
      "metadata": {
        "id": "view-in-github",
        "colab_type": "text"
      },
      "source": [
        "<a href=\"https://colab.research.google.com/github/Leo-xxx12/bootcamp_Leo_Xu/blob/main/homework3.ipynb\" target=\"_parent\"><img src=\"https://colab.research.google.com/assets/colab-badge.svg\" alt=\"Open In Colab\"/></a>"
      ]
    },
    {
      "cell_type": "code",
      "execution_count": 1,
      "metadata": {
        "colab": {
          "base_uri": "https://localhost:8080/"
        },
        "id": "cQaaQxVlkYZO",
        "outputId": "bdbc800a-e6b1-4f95-e8ac-aadff494e1bb"
      },
      "outputs": [
        {
          "output_type": "stream",
          "name": "stdout",
          "text": [
            "a:             [ 1  2  3  4  5  6  7  8  9 10]\n",
            "b:             [0.         0.11111111 0.22222222 0.33333333 0.44444444 0.55555556\n",
            " 0.66666667 0.77777778 0.88888889 1.        ]\n",
            "a + b:         [ 1.          2.11111111  3.22222222  4.33333333  5.44444444  6.55555556\n",
            "  7.66666667  8.77777778  9.88888889 11.        ]\n",
            "a * b:         [ 0.          0.22222222  0.66666667  1.33333333  2.22222222  3.33333333\n",
            "  4.66666667  6.22222222  8.         10.        ]\n",
            "a**2:          [  1   4   9  16  25  36  49  64  81 100]\n",
            "sqrt(a):       [1.         1.41421356 1.73205081 2.         2.23606798 2.44948974\n",
            " 2.64575131 2.82842712 3.         3.16227766]\n",
            "2.5*a + 1:     [ 3.5  6.   8.5 11.  13.5 16.  18.5 21.  23.5 26. ]\n",
            "even a + 1:    [ 3  5  7  9 11]\n",
            "\n",
            "M:\n",
            " [[ 0  1  2  3]\n",
            " [ 4  5  6  7]\n",
            " [ 8  9 10 11]]\n",
            "M + row:\n",
            " [[10 21 32 43]\n",
            " [14 25 36 47]\n",
            " [18 29 40 51]]\n",
            "\n",
            "Loop time:        5.205 s\n",
            "Vectorized time:  0.100 s\n",
            "Max abs diff:     0.000e+00\n",
            "\n",
            "Sum of squares (loop): 5001002.456816 in 1.122 s\n",
            "Sum of squares (vec):  5001002.456816 in 0.004 s\n"
          ]
        }
      ],
      "source": [
        "import numpy as np\n",
        "import time\n",
        "\n",
        "a = np.arange(1, 11)\n",
        "b = np.linspace(0.0, 1.0, 10)\n",
        "\n",
        "# Elementwise operations\n",
        "sum_ab      = a + b\n",
        "prod_ab     = a * b\n",
        "sq_a        = a**2\n",
        "sqrt_a      = np.sqrt(a)\n",
        "scaled_a    = 2.5 * a + 1\n",
        "mask        = a % 2 == 0\n",
        "evens_plus1 = a[mask] + 1\n",
        "\n",
        "print(\"a:            \", a)\n",
        "print(\"b:            \", b)\n",
        "print(\"a + b:        \", sum_ab)\n",
        "print(\"a * b:        \", prod_ab)\n",
        "print(\"a**2:         \", sq_a)\n",
        "print(\"sqrt(a):      \", sqrt_a)\n",
        "print(\"2.5*a + 1:    \", scaled_a)\n",
        "print(\"even a + 1:   \", evens_plus1)\n",
        "\n",
        "# Broadcasting demo: add row vector to each row of a matrix\n",
        "M = np.arange(12).reshape(3, 4)\n",
        "row = np.array([10, 20, 30, 40])\n",
        "M_plus_row = M + row\n",
        "print(\"\\nM:\\n\", M)\n",
        "print(\"M + row:\\n\", M_plus_row)\n",
        "\n",
        "# -----------------------------\n",
        "# 2) Loop vs Vectorized timing\n",
        "# Task: compute y = x^2 + 2x + 1 (elementwise)\n",
        "# -----------------------------\n",
        "N = 5_000_000\n",
        "x = np.random.randn(N).astype(np.float64)\n",
        "\n",
        "# --- Plain Python loop (slow) ---\n",
        "def poly_loop(x_arr):\n",
        "    y = np.empty_like(x_arr)\n",
        "    for i in range(x_arr.size):\n",
        "        xi = float(x_arr[i])\n",
        "        y[i] = xi*xi + 2*xi + 1\n",
        "    return y\n",
        "\n",
        "start = time.time()\n",
        "y_loop = poly_loop(x)\n",
        "t_loop = time.time() - start\n",
        "print(f\"\\nLoop time:        {t_loop:.3f} s\")\n",
        "\n",
        "# --- Vectorized NumPy (fast) ---\n",
        "start = time.time()\n",
        "y_vec = x*x + 2*x + 1\n",
        "t_vec = time.time() - start\n",
        "print(f\"Vectorized time:  {t_vec:.3f} s\")\n",
        "\n",
        "max_abs_diff = np.max(np.abs(y_loop - y_vec))\n",
        "print(f\"Max abs diff:     {max_abs_diff:.3e}\")\n",
        "\n",
        "def sumsq_loop(x_arr):\n",
        "    s = 0.0\n",
        "    for xi in x_arr:\n",
        "        s += xi*xi\n",
        "    return s\n",
        "\n",
        "start = time.time()\n",
        "s1 = sumsq_loop(x)\n",
        "t1 = time.time() - start\n",
        "\n",
        "start = time.time()\n",
        "s2 = np.dot(x, x)  # or (x*x).sum()\n",
        "t2 = time.time() - start\n",
        "\n",
        "print(f\"\\nSum of squares (loop): {s1:.6f} in {t1:.3f} s\")\n",
        "print(f\"Sum of squares (vec):  {s2:.6f} in {t2:.3f} s\")\n"
      ]
    },
    {
      "cell_type": "code",
      "source": [
        "from google.colab import drive\n",
        "import pandas as pd\n",
        "\n",
        "\n",
        "drive.mount('/content/drive')\n",
        "file_path = \"/content/drive/My Drive/Copy of starter_data.csv\"\n",
        "\n",
        "\n",
        "df = pd.read_csv(file_path)\n",
        "print(df.info())\n",
        "print(df.head())"
      ],
      "metadata": {
        "colab": {
          "base_uri": "https://localhost:8080/"
        },
        "id": "fcSNf-ZHmygB",
        "outputId": "d4352d04-8924-4735-b989-069c031c933c"
      },
      "execution_count": 3,
      "outputs": [
        {
          "output_type": "stream",
          "name": "stdout",
          "text": [
            "Drive already mounted at /content/drive; to attempt to forcibly remount, call drive.mount(\"/content/drive\", force_remount=True).\n",
            "<class 'pandas.core.frame.DataFrame'>\n",
            "RangeIndex: 10 entries, 0 to 9\n",
            "Data columns (total 3 columns):\n",
            " #   Column    Non-Null Count  Dtype \n",
            "---  ------    --------------  ----- \n",
            " 0   category  10 non-null     object\n",
            " 1   value     10 non-null     int64 \n",
            " 2   date      10 non-null     object\n",
            "dtypes: int64(1), object(2)\n",
            "memory usage: 372.0+ bytes\n",
            "None\n",
            "  category  value        date\n",
            "0        A     10  2025-08-01\n",
            "1        B     15  2025-08-02\n",
            "2        A     12  2025-08-03\n",
            "3        B     18  2025-08-04\n",
            "4        C     25  2025-08-05\n"
          ]
        }
      ]
    },
    {
      "cell_type": "code",
      "source": [
        "print(\"\\nColumns:\", df.columns.tolist())\n",
        "\n",
        "# Pick columns robustly\n",
        "cat_cols = df.select_dtypes(include=[\"object\", \"category\"]).columns.tolist()\n",
        "num_cols = df.select_dtypes(include=\"number\").columns.tolist()\n",
        "\n",
        "if not cat_cols:\n",
        "    # fallback: make a categorical bin from the first numeric column\n",
        "    first_num = num_cols[0]\n",
        "    df[\"AutoCategory\"] = pd.qcut(df[first_num], q=4, duplicates=\"drop\")\n",
        "    cat_col = \"AutoCategory\"\n",
        "else:\n",
        "    cat_col = cat_cols[0]   # choose the first categorical; change if you prefer another\n",
        "\n",
        "print(f\"\\nUsing category column: {cat_col}\")\n",
        "print(f\"Numeric columns to aggregate: {num_cols}\")\n",
        "\n",
        "# Summary stats for numeric columns\n",
        "print(\"\\n--- .describe() ---\")\n",
        "print(df[num_cols].describe())\n",
        "\n",
        "# Groupby aggregation\n",
        "agg = df.groupby(cat_col)[num_cols].agg([\"mean\", \"min\", \"max\", \"count\"])\n",
        "print(\"\\n--- Groupby Aggregation ---\")\n",
        "print(agg)"
      ],
      "metadata": {
        "colab": {
          "base_uri": "https://localhost:8080/"
        },
        "id": "7kH2RkjUpFno",
        "outputId": "edbcc58b-d62c-4554-9b30-5b88b60965cc"
      },
      "execution_count": 5,
      "outputs": [
        {
          "output_type": "stream",
          "name": "stdout",
          "text": [
            "\n",
            "Columns: ['category', 'value', 'date']\n",
            "\n",
            "Using category column: category\n",
            "Numeric columns to aggregate: ['value']\n",
            "\n",
            "--- .describe() ---\n",
            "           value\n",
            "count  10.000000\n",
            "mean   17.600000\n",
            "std     7.381659\n",
            "min    10.000000\n",
            "25%    12.250000\n",
            "50%    14.500000\n",
            "75%    23.250000\n",
            "max    30.000000\n",
            "\n",
            "--- Groupby Aggregation ---\n",
            "              value              \n",
            "               mean min max count\n",
            "category                         \n",
            "A         11.500000  10  13     4\n",
            "B         15.666667  14  18     3\n",
            "C         27.666667  25  30     3\n"
          ]
        }
      ]
    },
    {
      "cell_type": "code",
      "source": [
        "import pandas as pd\n",
        "import matplotlib.pyplot as plt\n",
        "import os\n",
        "# Pick category + numeric columns (adjust names to your dataset)\n",
        "cat_col = df.select_dtypes(include=[\"object\", \"category\"]).columns[0]\n",
        "num_cols = df.select_dtypes(include=\"number\").columns.tolist()\n",
        "\n",
        "# Compute summary\n",
        "summary = df.groupby(cat_col)[num_cols].agg([\"mean\", \"min\", \"max\", \"count\"])\n",
        "\n",
        "# -----------------------------\n",
        "# 1) Save to CSV and JSON\n",
        "# -----------------------------\n",
        "os.makedirs(\"data/processed\", exist_ok=True)   # ensure folder exists\n",
        "\n",
        "summary.to_csv(\"data/processed/summary.csv\")\n",
        "summary.to_json(\"data/processed/summary.json\", orient=\"records\", lines=True)\n",
        "\n",
        "print(\"✅ Saved summary to data/processed/summary.csv and .json\")\n",
        "\n",
        "# -----------------------------\n",
        "# 2) Create and save a plot\n",
        "# -----------------------------\n",
        "# Example: bar plot of mean of the first numeric column by category\n",
        "first_num = num_cols[0]\n",
        "plot_data = df.groupby(cat_col)[first_num].mean()\n",
        "\n",
        "plt.figure(figsize=(6,4))\n",
        "plot_data.plot(kind=\"bar\", color=\"skyblue\", edgecolor=\"black\")\n",
        "plt.title(f\"Average {first_num} by {cat_col}\")\n",
        "plt.xlabel(cat_col)\n",
        "plt.ylabel(f\"Mean {first_num}\")\n",
        "plt.tight_layout()\n",
        "\n",
        "plt.savefig(\"data/processed/summary_plot.png\", dpi=300)\n",
        "print(\"✅ Saved plot to data/processed/summary_plot.png\")"
      ],
      "metadata": {
        "colab": {
          "base_uri": "https://localhost:8080/",
          "height": 442
        },
        "id": "w8PUl9GaqSaX",
        "outputId": "6c077330-c1fb-4577-a51a-b31bce803d44"
      },
      "execution_count": 6,
      "outputs": [
        {
          "output_type": "stream",
          "name": "stdout",
          "text": [
            "✅ Saved summary to data/processed/summary.csv and .json\n",
            "✅ Saved plot to data/processed/summary_plot.png\n"
          ]
        },
        {
          "output_type": "display_data",
          "data": {
            "text/plain": [
              "<Figure size 600x400 with 1 Axes>"
            ],
            "image/png": "[encoded data removed]"
          },
          "metadata": {}
        }
      ]
    },
    {
      "cell_type": "code",
      "source": [
        "\n",
        "import pandas as pd\n",
        "\n",
        "def get_summary_stats(df, cat_col=None):\n",
        "\n",
        "    if cat_col is None:\n",
        "        cat_candidates = df.select_dtypes(include=[\"object\", \"category\"]).columns.tolist()\n",
        "        if not cat_candidates:\n",
        "            raise ValueError(\"No categorical column found. Please specify cat_col.\")\n",
        "        cat_col = cat_candidates[0]\n",
        "\n",
        "    num_cols = df.select_dtypes(include=\"number\").columns.tolist()\n",
        "\n",
        "    summary = df.groupby(cat_col)[num_cols].agg([\"mean\", \"min\", \"max\", \"count\"])\n",
        "    return summary\n"
      ],
      "metadata": {
        "id": "k0BIuLaOrTvx"
      },
      "execution_count": 7,
      "outputs": []
    }
  ]
}
