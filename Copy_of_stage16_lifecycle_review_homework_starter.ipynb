{
  "cells": [
    {
      "cell_type": "markdown",
      "metadata": {
        "id": "view-in-github",
        "colab_type": "text"
      },
      "source": [
        "<a href=\"https://colab.research.google.com/github/Leo-xxx12/bootcamp_Leo_Xu/blob/main/Copy_of_stage16_lifecycle_review_homework_starter.ipynb\" target=\"_parent\"><img src=\"https://colab.research.google.com/assets/colab-badge.svg\" alt=\"Open In Colab\"/></a>"
      ]
    },
    {
      "cell_type": "markdown",
      "metadata": {
        "id": "I8QQ__l8IpHf"
      },
      "source": [
        "# Stage 16 Homework Starter\n",
        "\n",
        "This notebook is a starting point for polishing your final repo and lifecycle mapping."
      ]
    },
    {
      "cell_type": "markdown",
      "metadata": {
        "id": "eU3gN3anIpHi"
      },
      "source": [
        "## Checklist Template\n",
        " - Add checklist elements, as in the examples below, to make sure you cover everything you would like to accomplish\n",
        "- Update this checklist as you finalize your repo."
      ]
    },
    {
      "cell_type": "code",
      "execution_count": 2,
      "metadata": {
        "id": "QRXQQYPTIpHj",
        "colab": {
          "base_uri": "https://localhost:8080/"
        },
        "outputId": "1ad16432-0127-49cc-ac34-5237800f7135"
      },
      "outputs": [
        {
          "output_type": "execute_result",
          "data": {
            "text/plain": [
              "{'repo_clean': False,\n",
              " 'repo_complete': False,\n",
              " 'readme_complete': False,\n",
              " 'lifecycle_map': False,\n",
              " 'summary_doc': False,\n",
              " 'framework_guide_table': False}"
            ]
          },
          "metadata": {},
          "execution_count": 2
        }
      ],
      "source": [
        "checklist = {\n",
        "    \"repo_clean\": False,\n",
        "    \"repo_complete\": False,\n",
        "    \"readme_complete\": False,\n",
        "    \"lifecycle_map\": False,\n",
        "    \"summary_doc\": False,\n",
        "    \"framework_guide_table\": False\n",
        "}\n",
        "checklist\n"
      ]
    },
    {
      "cell_type": "markdown",
      "metadata": {
        "id": "CbtcfALaIpHk"
      },
      "source": [
        "## Reflection Prompts\n",
        "- What stage of the lifecycle was hardest for you, and why?\n",
        "- Which part of your repo is most reusable in a future project?\n",
        "- If a teammate had to pick up your repo tomorrow, what would help them most?"
      ]
    },
    {
      "cell_type": "markdown",
      "source": [
        "Reflection\n",
        "The hardest stage of the lifecycle for me was deployment and monitoring. While training and testing the model was straightforward, wrapping it into a reusable API or dashboard introduced new challenges, such as structuring the project for maintainability, handling edge cases in inputs, and setting up meaningful monitoring metrics. It required me to think less like a data scientist experimenting in a notebook and more like an engineer ensuring reliability for end users.\n",
        "The most reusable part of my repo is the modularized code in /src/ and the pickled model. By separating out reusable functions and ensuring the model can be saved, reloaded, and tested, future projects can build on this foundation without redoing boilerplate work. For example, the same pipeline structure could be applied to new datasets by updating the preprocessing and retraining steps. The CLI refactoring also makes the repo more flexible, since tasks can be run with different inputs and outputs easily.\n",
        "If a teammate had to pick up my repo tomorrow, the most helpful things would be the README.md and the logging/checkpoint plan. The README provides an overview of how to run the project and explains the folder structure, while the logging plan shows what artifacts and outputs to expect at each stage. Together, these resources make the repo easier to understand, test, and extend, even without my direct guidance.\n"
      ],
      "metadata": {
        "id": "BIBMKZuiJFWh"
      }
    }
  ],
  "metadata": {
    "kernelspec": {
      "display_name": "Python 3",
      "language": "python",
      "name": "python3"
    },
    "colab": {
      "provenance": [],
      "include_colab_link": true
    }
  },
  "nbformat": 4,
  "nbformat_minor": 0
}